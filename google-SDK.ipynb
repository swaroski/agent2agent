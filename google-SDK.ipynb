{
 "cells": [
  {
   "cell_type": "markdown",
   "id": "429b3792",
   "metadata": {},
   "source": [
    "In the following notebook, we'll speedrun an introduction to the Google Agent Development Kit.\n",
    "\n",
    "From Google:\n",
    "\n",
    "What is ADK again?\n",
    "\n",
    "As a reminder, ADK is a Python framework designed to streamline the development of applications powered by Large Language Models (LLMs). It offers robust building blocks for creating agents that can reason, plan, utilize tools, interact dynamically with users, and collaborate effectively within a team.\n",
    "\n",
    "While, like usual, this is \"just another Agent framework\" - the documentation for this framework is incredible. Massive shoutout to Google's docs team on this one!\n",
    "\n",
    "We'll work through the following steps:\n",
    "\n",
    "Step 1: Initial Setup and Configuration\n",
    "Step 2: Building a Simple Dice Rolling Agent\n",
    "Step 3: Building a Team of Agents\n",
    "Step 4: Adding Session State\n",
    "Let's get started!\n",
    "\n",
    "NOTE: This tutorial is modified from the amazing tutorial found here.\n",
    "\n",
    "## Step 1: Initial Setup and Configuration"
   ]
  },
  {
   "cell_type": "code",
   "execution_count": 1,
   "id": "e15d7323",
   "metadata": {},
   "outputs": [
    {
     "data": {
      "text/plain": [
       "True"
      ]
     },
     "execution_count": 1,
     "metadata": {},
     "output_type": "execute_result"
    }
   ],
   "source": [
    "import os\n",
    "import random\n",
    "from google.adk.agents import Agent\n",
    "from google.adk.models.lite_llm import LiteLlm # For multi-model support\n",
    "from google.adk.sessions import InMemorySessionService\n",
    "from google.adk.runners import Runner\n",
    "from google.adk.tools.tool_context import ToolContext\n",
    "from google.genai import types # For creating message Content/Parts\n",
    "from getpass import getpass\n",
    "\n",
    "from dotenv import load_dotenv\n",
    "import os\n",
    "\n",
    "\n",
    "import warnings\n",
    "# Ignore all warnings\n",
    "warnings.filterwarnings(\"ignore\")\n",
    "\n",
    "import logging\n",
    "logging.basicConfig(level=logging.ERROR)\n",
    "\n",
    "# Load environment variables from .env file\n",
    "load_dotenv()"
   ]
  },
  {
   "cell_type": "markdown",
   "id": "36615f1a",
   "metadata": {},
   "source": [
    "Let's additionally setup some API keys from all our favourite providers."
   ]
  },
  {
   "cell_type": "code",
   "execution_count": 2,
   "id": "4e28141e",
   "metadata": {},
   "outputs": [],
   "source": [
    "# (Optional) Validate required keys\n",
    "required_keys = [\n",
    "    \"GOOGLE_API_KEY\",\n",
    "    \"OPENAI_API_KEY\",\n",
    "    \"ANTHROPIC_API_KEY\",\n",
    "    \"GOOGLE_GENAI_USE_VERTEXAI\",\n",
    "]\n",
    "\n",
    "for key in required_keys:\n",
    "    if not os.getenv(key):\n",
    "        raise EnvironmentError(f\"Missing required env var: {key}\")\n"
   ]
  },
  {
   "cell_type": "markdown",
   "id": "9e4f8100",
   "metadata": {},
   "source": [
    "## Step 2: Building A Dice Rolling Agent\n",
    "For the first look at the system - we're going to start as most agent framework examples do - with a python function we're going to use as a tool.\n",
    "\n",
    "The normal tool creation best-practices apply here, as per usual:\n",
    "\n",
    "The docstring isn't just a docstring, it's a prompt to help the LLM/Agent understand when, how, and why to use a tool.\n",
    "Typehints aren't just typehints thanks to Pydantic they help describe exactly the format our tool is expecting.\n",
    "Crafting a good tool is an important part of building great agents, and it's no different in Google's ADK.\n",
    "\n",
    "\n",
    "Our tool is fairly straightforward:\n",
    "Given an attribute modifier, a proficiency score, and a difficulty class - does the roll succeed or fail."
   ]
  },
  {
   "cell_type": "code",
   "execution_count": 5,
   "id": "72993009",
   "metadata": {},
   "outputs": [
    {
     "name": "stdout",
     "output_type": "stream",
     "text": [
      "--- Tool: roll_to_hit called for attribute_modifier: 3, proficiency: 2, and difficulty_class: 15 ---\n",
      "{'status': 'success', 'information': 'You rolled a 16 and hit the target number of 15.'}\n",
      "--- Tool: roll_to_hit called for attribute_modifier: -1, proficiency: 2, and difficulty_class: 12 ---\n",
      "{'status': 'error', 'error_message': 'You rolled a 11 and did not hit the target number of 12.'}\n"
     ]
    }
   ],
   "source": [
    "def roll_to_hit(attribute_modifier: int, proficiency: int, difficulty_class: int) -> dict:\n",
    "    \"\"\"Rolls a check to hit a target number.\n",
    "\n",
    "    Args:\n",
    "        attribute_modifier (int): The attribute modifier to roll.\n",
    "        proficiency (int): The proficiency bonus to the attribute modifier.\n",
    "        difficulty_class (int): The difficulty class to hit.\n",
    "\n",
    "    Returns:\n",
    "        dict: Results of the roll, including whether it was a success or failure.\n",
    "    \"\"\"\n",
    "    print(f\"--- Tool: roll_to_hit called for attribute_modifier: {attribute_modifier}, proficiency: {proficiency}, and difficulty_class: {difficulty_class} ---\") # Log tool execution\n",
    "    \n",
    "    # roll data\n",
    "    roll = random.randint(1, 20)\n",
    "    roll_result = roll + attribute_modifier + proficiency\n",
    "    if roll_result >= difficulty_class:\n",
    "        return {\"status\": \"success\", \"information\": f\"You rolled a {roll_result} and hit the target number of {difficulty_class}.\"}\n",
    "    else:\n",
    "        return {\"status\": \"error\", \"error_message\": f\"You rolled a {roll_result} and did not hit the target number of {difficulty_class}.\"}\n",
    "    \n",
    "# Example tool usage (optional test)\n",
    "print(roll_to_hit(3, 2, 15))\n",
    "print(roll_to_hit(-1, 2, 12))"
   ]
  },
  {
   "cell_type": "code",
   "execution_count": 7,
   "id": "046e8095",
   "metadata": {},
   "outputs": [],
   "source": [
    "MODEL_GEMINI_2_0_FLASH = \"gemini-2.0-flash\"\n",
    "MODEL_GPT_41 = \"openai/gpt-4.1\"\n",
    "MODEL_CLAUDE_SONNET = \"claude-3-5-sonnet-20240620\""
   ]
  },
  {
   "cell_type": "markdown",
   "id": "8c58afd6",
   "metadata": {},
   "source": [
    "We can see that our tool does what we'd expect it to do - which is roll some dice and add some numbers!\n",
    "\n",
    "Let's look at how we create Agents in Google's ADK next.\n",
    "\n",
    "Once again, we see a common pattern in the ADK - clear, specific instructions for our Agent, as well as a clear description. We also see the equipping of our Agent with a tool in its toolbelt."
   ]
  },
  {
   "cell_type": "code",
   "execution_count": 8,
   "id": "152b9523",
   "metadata": {},
   "outputs": [
    {
     "name": "stdout",
     "output_type": "stream",
     "text": [
      "Agent 'dice_rolling_agent_v1' created using model 'gemini-2.0-flash'.\n"
     ]
    }
   ],
   "source": [
    "AGENT_MODEL = MODEL_GEMINI_2_0_FLASH \n",
    "\n",
    "dice_rolling_agent = Agent(\n",
    "    name=\"dice_rolling_agent_v1\",\n",
    "    model=AGENT_MODEL, # Can be a string for Gemini or a LiteLlm object\n",
    "    description=\"Provides results for a dice roll/check to hit a target number.\",\n",
    "    instruction=\"You are a helpful dice rolling assistant. \"\n",
    "                \"When the user asks to make a check against a specific DC with a modifier and attribute score\"\n",
    "                \"use the 'roll_to_hit' tool to find the result. \"\n",
    "                \"If the tool returns an error, inform the user politely. \"\n",
    "                \"If the tool is successful, present the result clearly.\",\n",
    "    tools=[roll_to_hit], # Pass the function directly\n",
    ")\n",
    "\n",
    "print(f\"Agent '{dice_rolling_agent.name}' created using model '{AGENT_MODEL}'.\")"
   ]
  },
  {
   "cell_type": "markdown",
   "id": "8f2ad525",
   "metadata": {},
   "source": [
    "Next up - we need to set our session, which is essentially analogous to State from frameworks like LangGraph.\n",
    "\n",
    "We'll also set our Runner. When people say \"Agents are just while loops\", the Runner is the component they're referring to."
   ]
  },
  {
   "cell_type": "code",
   "execution_count": 9,
   "id": "cdf87fea",
   "metadata": {},
   "outputs": [
    {
     "name": "stdout",
     "output_type": "stream",
     "text": [
      "Session created: App='dice_rolling_tutorial_app', User='user_1', Session='session_001'\n",
      "Runner created for agent 'dice_rolling_agent_v1'.\n"
     ]
    }
   ],
   "source": [
    "session_service = InMemorySessionService()\n",
    "\n",
    "# Define constants for identifying the interaction context\n",
    "APP_NAME = \"dice_rolling_tutorial_app\"\n",
    "USER_ID = \"user_1\"\n",
    "SESSION_ID = \"session_001\" # Using a fixed ID for simplicity\n",
    "\n",
    "# Create the specific session where the conversation will happen\n",
    "session = await session_service.create_session(\n",
    "    app_name=APP_NAME,\n",
    "    user_id=USER_ID,\n",
    "    session_id=SESSION_ID\n",
    ")\n",
    "print(f\"Session created: App='{APP_NAME}', User='{USER_ID}', Session='{SESSION_ID}'\")\n",
    "\n",
    "# --- Runner ---\n",
    "# Key Concept: Runner orchestrates the agent execution loop.\n",
    "runner = Runner(\n",
    "    agent=dice_rolling_agent, # The agent we want to run\n",
    "    app_name=APP_NAME,   # Associates runs with our app\n",
    "    session_service=session_service # Uses our session manager\n",
    ")\n",
    "print(f\"Runner created for agent '{runner.agent.name}'.\")"
   ]
  },
  {
   "cell_type": "markdown",
   "id": "c8d5b713",
   "metadata": {},
   "source": [
    "Finally, we need some kind of environment to run our Runner in!\n",
    "\n",
    "We're going to create this for our notebook using this async helper function.\n",
    "\n",
    "A few things to note:\n",
    "\n",
    "We need to convert our query into the expected ADK Content object format.\n",
    "We loop through our Runner's events until we reach the final response"
   ]
  },
  {
   "cell_type": "code",
   "execution_count": 10,
   "id": "5abc140b",
   "metadata": {},
   "outputs": [],
   "source": [
    "async def call_agent_async(query: str, runner, user_id, session_id):\n",
    "  \"\"\"Sends a query to the agent and prints the final response.\"\"\"\n",
    "  print(f\"\\n>>> User Query: {query}\")\n",
    "\n",
    "  # Prepare the user's message in ADK format\n",
    "  content = types.Content(role='user', parts=[types.Part(text=query)])\n",
    "\n",
    "  final_response_text = \"Agent did not produce a final response.\" # Default\n",
    "\n",
    "  # Key Concept: run_async executes the agent logic and yields Events.\n",
    "  # We iterate through events to find the final answer.\n",
    "  async for event in runner.run_async(user_id=user_id, session_id=session_id, new_message=content):\n",
    "      # You can uncomment the line below to see *all* events during execution\n",
    "      # print(f\"  [Event] Author: {event.author}, Type: {type(event).__name__}, Final: {event.is_final_response()}, Content: {event.content}\")\n",
    "\n",
    "      # Key Concept: is_final_response() marks the concluding message for the turn.\n",
    "      if event.is_final_response():\n",
    "          if event.content and event.content.parts:\n",
    "             # Assuming text response in the first part\n",
    "             final_response_text = event.content.parts[0].text\n",
    "          elif event.actions and event.actions.escalate: # Handle potential errors/escalations\n",
    "             final_response_text = f\"Agent escalated: {event.error_message or 'No specific message.'}\"\n",
    "          # Add more checks here if needed (e.g., specific error codes)\n",
    "          break # Stop processing events once the final response is found\n",
    "\n",
    "  print(f\"<<< Agent Response: {final_response_text}\")"
   ]
  },
  {
   "cell_type": "markdown",
   "id": "e4bc07ac",
   "metadata": {},
   "source": [
    "Now we can run our Agent, and see how it does!"
   ]
  },
  {
   "cell_type": "code",
   "execution_count": 11,
   "id": "9222645e",
   "metadata": {},
   "outputs": [
    {
     "name": "stdout",
     "output_type": "stream",
     "text": [
      "\n",
      ">>> User Query: I want to make a DC 15 check with a modifier of 2 and an attribute score of 3\n",
      "--- Tool: roll_to_hit called for attribute_modifier: 3, proficiency: 2, and difficulty_class: 15 ---\n",
      "<<< Agent Response: You rolled a 17 and hit the target number of 15.\n",
      "\n",
      "\n",
      ">>> User Query: I have to make a DC 12 Dexterity check. I have +4 in Dexterity, with proficiency, and we're just level 1.\n",
      "--- Tool: roll_to_hit called for attribute_modifier: 4, proficiency: 2, and difficulty_class: 12 ---\n",
      "<<< Agent Response: You rolled a 10 and did not hit the target number of 12.\n",
      "\n",
      "\n",
      ">>> User Query: I just got targeted by a DC 12 Constitution check. I have +1 in Constitution, with no proficiency.\n",
      "--- Tool: roll_to_hit called for attribute_modifier: 1, proficiency: 0, and difficulty_class: 12 ---\n",
      "<<< Agent Response: You rolled a 15 and hit the target number of 12.\n",
      "\n"
     ]
    }
   ],
   "source": [
    "async def run_conversation():\n",
    "    await call_agent_async(\"I want to make a DC 15 check with a modifier of 2 and an attribute score of 3\",\n",
    "                                       runner=runner,\n",
    "                                       user_id=USER_ID,\n",
    "                                       session_id=SESSION_ID)\n",
    "\n",
    "    await call_agent_async(\"I have to make a DC 12 Dexterity check. I have +4 in Dexterity, with proficiency, and we're just level 1.\",\n",
    "                                       runner=runner,\n",
    "                                       user_id=USER_ID,\n",
    "                                       session_id=SESSION_ID) # Expecting the tool's error message\n",
    "\n",
    "    await call_agent_async(\"I just got targeted by a DC 12 Constitution check. I have +1 in Constitution, with no proficiency.\",\n",
    "                                       runner=runner,\n",
    "                                       user_id=USER_ID,\n",
    "                                       session_id=SESSION_ID)\n",
    "\n",
    "# Execute the conversation using await in an async context (like Colab/Jupyter)\n",
    "await run_conversation()"
   ]
  },
  {
   "attachments": {
    "image.png": {
     "image/png": "[encoded data removed]"
    }
   },
   "cell_type": "markdown",
   "id": "9dfc4226",
   "metadata": {},
   "source": [
    "Step 3: Building a Team of Agents\n",
    "Beyond just running a single Agent, we can also run multiple agents, and build teams of agents we can delegate to based on the tasks at hand.\n",
    "\n",
    "In Google's ADK the primary method of building these teams is the \"hierarchical agent\" structure:\n",
    "\n",
    "We build specialized agents that excel at certain tasks\n",
    "We build a router, manager, or orchestrator (Google calls this the \"root agent\")\n",
    "We allow the router to determine which agent handles which task\n",
    "Let's look at our final \"graph\" to see exactly how this will wind up looking:\n",
    "![image.png](attachment:image.png)\n",
    "In order to get started with this, we'll need to do a couple important things:\n",
    "\n",
    "Define the new tools we need for saying hello and goodbye\n",
    "Building Agents that our root agent can delegate to\n",
    "NOTE: It's important to notice that our root agent actually has access to a tool that it can call directly. It's not \"just\" a router, in this case, it's also a fully fledged Agent!\n",
    "\n",
    "Our actual tools for saying hello and goodbye are extremely simple, as an example, but they can have arbitary complexity."
   ]
  },
  {
   "cell_type": "code",
   "execution_count": 12,
   "id": "29b88878",
   "metadata": {},
   "outputs": [
    {
     "name": "stdout",
     "output_type": "stream",
     "text": [
      "Greeting and Farewell tools defined.\n",
      "--- Tool: say_hello called with name: Alice ---\n",
      "Hello, Alice!\n",
      "--- Tool: say_goodbye called ---\n",
      "Goodbye! Have a great day.\n"
     ]
    }
   ],
   "source": [
    "def say_hello(name: str = \"there\") -> str:\n",
    "    \"\"\"Provides a simple greeting, optionally addressing the user by name.\n",
    "\n",
    "    Args:\n",
    "        name (str, optional): The name of the person to greet. Defaults to \"there\".\n",
    "\n",
    "    Returns:\n",
    "        str: A friendly greeting message.\n",
    "    \"\"\"\n",
    "    print(f\"--- Tool: say_hello called with name: {name} ---\")\n",
    "    return f\"Hello, {name}!\"\n",
    "\n",
    "def say_goodbye() -> str:\n",
    "    \"\"\"Provides a simple farewell message to conclude the conversation.\"\"\"\n",
    "    print(f\"--- Tool: say_goodbye called ---\")\n",
    "    return \"Goodbye! Have a great day.\"\n",
    "\n",
    "print(\"Greeting and Farewell tools defined.\")\n",
    "\n",
    "# Optional self-test\n",
    "print(say_hello(\"Alice\"))\n",
    "print(say_goodbye())"
   ]
  },
  {
   "cell_type": "markdown",
   "id": "52d27444",
   "metadata": {},
   "source": [
    "We'll once again create our Agent, this time we'll create two - and we'll also spin them up with a suitable \"power level\" model, in gpt-4.1-nano."
   ]
  },
  {
   "cell_type": "code",
   "execution_count": 13,
   "id": "e7a52554",
   "metadata": {},
   "outputs": [
    {
     "name": "stdout",
     "output_type": "stream",
     "text": [
      "✅ Agent 'greeting_agent' created using model 'model='openai/gpt-4.1-nano' llm_client=<google.adk.models.lite_llm.LiteLLMClient object at 0x7f62751ddfd0>'.\n",
      "✅ Agent 'farewell_agent' created using model 'model='openai/gpt-4.1-nano' llm_client=<google.adk.models.lite_llm.LiteLLMClient object at 0x7f6274bde350>'.\n"
     ]
    }
   ],
   "source": [
    "greeting_agent = None\n",
    "try:\n",
    "    greeting_agent = Agent(\n",
    "        # Using a potentially different/cheaper model for a simple task\n",
    "        model=LiteLlm(model=\"openai/gpt-4.1-nano\"),\n",
    "        name=\"greeting_agent\",\n",
    "        instruction=\"You are the Greeting Agent. Your ONLY task is to provide a friendly greeting to the user. \"\n",
    "                    \"Use the 'say_hello' tool to generate the greeting. \"\n",
    "                    \"If the user provides their name, make sure to pass it to the tool. \"\n",
    "                    \"Do not engage in any other conversation or tasks.\",\n",
    "        description=\"Handles simple greetings and hellos using the 'say_hello' tool.\", # Crucial for delegation\n",
    "        tools=[say_hello],\n",
    "    )\n",
    "    print(f\"✅ Agent '{greeting_agent.name}' created using model '{greeting_agent.model}'.\")\n",
    "except Exception as e:\n",
    "    print(f\"❌ Could not create Greeting agent. Check API Key ({greeting_agent.model}). Error: {e}\")\n",
    "\n",
    "# --- Farewell Agent ---\n",
    "farewell_agent = None\n",
    "try:\n",
    "    farewell_agent = Agent(\n",
    "        # Can use the same or a different model\n",
    "        model=LiteLlm(model=\"openai/gpt-4.1-nano\"),\n",
    "        name=\"farewell_agent\",\n",
    "        instruction=\"You are the Farewell Agent. Your ONLY task is to provide a polite goodbye message. \"\n",
    "                    \"Use the 'say_goodbye' tool when the user indicates they are leaving or ending the conversation \"\n",
    "                    \"(e.g., using words like 'bye', 'goodbye', 'thanks bye', 'see you'). \"\n",
    "                    \"Do not perform any other actions.\",\n",
    "        description=\"Handles simple farewells and goodbyes using the 'say_goodbye' tool.\", # Crucial for delegation\n",
    "        tools=[say_goodbye],\n",
    "    )\n",
    "    print(f\"✅ Agent '{farewell_agent.name}' created using model '{farewell_agent.model}'.\")\n",
    "except Exception as e:\n",
    "    print(f\"❌ Could not create Farewell agent. Check API Key ({farewell_agent.model}). Error: {e}\")"
   ]
  },
  {
   "cell_type": "markdown",
   "id": "79e6d0bf",
   "metadata": {},
   "source": [
    "Now we can create our \"root agent\".\n",
    "\n",
    "Notice how we need to cover a few things:\n",
    "\n",
    "The cases in which we should delegate to our sub_agents\n",
    "The cases in which our root agent can perform the task directly.\n",
    "Otherwise, this is the same process we used to set-up our original agent, with the inclusion of defining our sub_agents!"
   ]
  },
  {
   "cell_type": "code",
   "execution_count": 14,
   "id": "95d0fb5a",
   "metadata": {},
   "outputs": [
    {
     "name": "stdout",
     "output_type": "stream",
     "text": [
      "✅ Root Agent 'dice_rolling_agent_v2' created using model 'gemini-2.0-flash' with sub-agents: ['greeting_agent', 'farewell_agent']\n"
     ]
    }
   ],
   "source": [
    "root_agent = None\n",
    "runner_root = None # Initialize runner\n",
    "\n",
    "if greeting_agent and farewell_agent and 'roll_to_hit' in globals():\n",
    "    # Let's use a capable Gemini model for the root agent to handle orchestration\n",
    "    root_agent_model = MODEL_GEMINI_2_0_FLASH\n",
    "\n",
    "    dice_rolling_agent_team = Agent(\n",
    "        name=\"dice_rolling_agent_v2\", # Give it a new version name\n",
    "        model=MODEL_GEMINI_2_0_FLASH,\n",
    "        description=\"The main coordinator agent. Handles dice/check rolling requests and delegates greetings/farewells to specialists.\",\n",
    "        instruction=\"You are the main agent coordinating a team. Your primary responsibility is to provide dice/check rolling information. \"\n",
    "                    \"Use the 'roll_to_hit' tool ONLY for specific dice/check rolling requests (e.g., 'I'm making a DC 15 check with a attribute modifier of 2 and a proficiency of 0'). \"\n",
    "                    \"You have specialized sub-agents: \"\n",
    "                    \"1. 'greeting_agent': Handles simple greetings like 'Hi', 'Hello'. Delegate to it for these. \"\n",
    "                    \"2. 'farewell_agent': Handles simple farewells like 'Bye', 'See you'. Delegate to it for these. \"\n",
    "                    \"Analyze the user's query. If it's a greeting, delegate to 'greeting_agent'. If it's a farewell, delegate to 'farewell_agent'. \"\n",
    "                    \"If it's a dice/check rolling request, handle it yourself using 'roll_to_hit'. \"\n",
    "                    \"For anything else, respond appropriately or state you cannot handle it.\",\n",
    "        tools=[roll_to_hit], # Root agent still needs the weather tool for its core task\n",
    "        # Key change: Link the sub-agents here!\n",
    "        sub_agents=[greeting_agent, farewell_agent]\n",
    "    )\n",
    "    print(f\"✅ Root Agent '{dice_rolling_agent_team.name}' created using model '{root_agent_model}' with sub-agents: {[sa.name for sa in dice_rolling_agent_team.sub_agents]}\")\n",
    "\n",
    "else:\n",
    "    print(\"❌ Cannot create root agent because one or more sub-agents failed to initialize or 'roll_to_hit' tool is missing.\")\n",
    "    if not greeting_agent: print(\" - Greeting Agent is missing.\")\n",
    "    if not farewell_agent: print(\" - Farewell Agent is missing.\")\n",
    "    if 'roll_to_hit' not in globals(): print(\" - roll_to_hit function is missing.\")"
   ]
  },
  {
   "cell_type": "markdown",
   "id": "10a08bde",
   "metadata": {},
   "source": [
    "Now we can test this out by calling our agents with various requests!"
   ]
  },
  {
   "cell_type": "code",
   "execution_count": 15,
   "id": "2a5f8e2f",
   "metadata": {},
   "outputs": [
    {
     "name": "stdout",
     "output_type": "stream",
     "text": [
      "Attempting execution using 'await' (default for notebooks)...\n",
      "\n",
      "--- Testing Agent Team Delegation ---\n",
      "Session created: App='dice_rolling_tutorial_agent_team', User='user_1_agent_team', Session='session_001_agent_team'\n",
      "Runner created for agent 'dice_rolling_agent_v2'.\n",
      "\n",
      ">>> User Query: Hello there!\n",
      "--- Tool: say_hello called with name: there ---\n",
      "<<< Agent Response: Hello!\n",
      "\n",
      ">>> User Query: I'm making a DC 15 check with a attribute modifier of 2 and a proficiency of 0\n",
      "<<< Agent Response: It looks like you're working on a game-related task. I specialize in greetings and hellos. Would you like me to assist with anything else?\n",
      "\n",
      ">>> User Query: Thanks, bye!\n",
      "--- Tool: say_goodbye called ---\n",
      "<<< Agent Response: Goodbye! Have a great day.\n"
     ]
    }
   ],
   "source": [
    "# Check if the root agent variable exists before defining the conversation function\n",
    "root_agent_var_name = 'root_agent'\n",
    "if 'dice_rolling_agent_team' in globals(): # Check if user used this name instead\n",
    "    root_agent_var_name = 'dice_rolling_agent_team'\n",
    "elif 'root_agent' not in globals():\n",
    "    print(\"⚠️ Root agent ('root_agent' or 'dice_rolling_agent_team') not found. Cannot define run_team_conversation.\")\n",
    "    # Assign a dummy value to prevent NameError later if the code block runs anyway\n",
    "    root_agent = None # Or set a flag to prevent execution\n",
    "\n",
    "# Only define and run if the root agent exists\n",
    "if root_agent_var_name in globals() and globals()[root_agent_var_name]:\n",
    "    # Define the main async function for the conversation logic.\n",
    "    # The 'await' keywords INSIDE this function are necessary for async operations.\n",
    "    async def run_team_conversation():\n",
    "        print(\"\\n--- Testing Agent Team Delegation ---\")\n",
    "        session_service = InMemorySessionService()\n",
    "        APP_NAME = \"dice_rolling_tutorial_agent_team\"\n",
    "        USER_ID = \"user_1_agent_team\"\n",
    "        SESSION_ID = \"session_001_agent_team\"\n",
    "        session = await session_service.create_session(\n",
    "            app_name=APP_NAME, user_id=USER_ID, session_id=SESSION_ID\n",
    "        )\n",
    "        print(f\"Session created: App='{APP_NAME}', User='{USER_ID}', Session='{SESSION_ID}'\")\n",
    "\n",
    "        actual_root_agent = globals()[root_agent_var_name]\n",
    "        runner_agent_team = Runner( # Or use InMemoryRunner\n",
    "            agent=actual_root_agent,\n",
    "            app_name=APP_NAME,\n",
    "            session_service=session_service\n",
    "        )\n",
    "        print(f\"Runner created for agent '{actual_root_agent.name}'.\")\n",
    "\n",
    "        # --- Interactions using await (correct within async def) ---\n",
    "        await call_agent_async(query = \"Hello there!\",\n",
    "                               runner=runner_agent_team,\n",
    "                               user_id=USER_ID,\n",
    "                               session_id=SESSION_ID)\n",
    "        await call_agent_async(query = \"I'm making a DC 15 check with a attribute modifier of 2 and a proficiency of 0\",\n",
    "                               runner=runner_agent_team,\n",
    "                               user_id=USER_ID,\n",
    "                               session_id=SESSION_ID)\n",
    "        await call_agent_async(query = \"Thanks, bye!\",\n",
    "                               runner=runner_agent_team,\n",
    "                               user_id=USER_ID,\n",
    "                               session_id=SESSION_ID)\n",
    "\n",
    "    # --- Execute the `run_team_conversation` async function ---\n",
    "\n",
    "    print(\"Attempting execution using 'await' (default for notebooks)...\")\n",
    "    await run_team_conversation()\n",
    "\n",
    "else:\n",
    "    # This message prints if the root agent variable wasn't found earlier\n",
    "    print(\"\\n⚠️ Skipping agent team conversation execution as the root agent was not successfully defined in a previous step.\")"
   ]
  },
  {
   "cell_type": "markdown",
   "id": "c430de50",
   "metadata": {},
   "source": [
    "## Step 4: Adding Session State\n",
    "Finally, we can talk about adding useful state to our Agent application!\n",
    "\n",
    "Session state, like in other frameworks, can be used as a kind of memory as well as additional (and, obviously, stateful context) for tools and agents alike!\n",
    "\n",
    "Let's look at how to use state to capture simple user preference.\n",
    "\n",
    "\n",
    "In this example, we'll be using \"Advantage\" as a proxy for state. Advantage means when we roll our d20, we'll roll twice and keep the highest of the two rolls."
   ]
  },
  {
   "cell_type": "code",
   "execution_count": 16,
   "id": "3a7c6af1",
   "metadata": {},
   "outputs": [
    {
     "name": "stdout",
     "output_type": "stream",
     "text": [
      "✅ New InMemorySessionService created for state demonstration.\n",
      "✅ Session 'session_state_demo_001' created for user 'user_state_demo'.\n",
      "\n",
      "--- Initial Session State ---\n",
      "{'user_advantage': 'true'}\n"
     ]
    }
   ],
   "source": [
    "# Create a NEW session service instance for this state demonstration\n",
    "session_service_stateful = InMemorySessionService()\n",
    "print(\"✅ New InMemorySessionService created for state demonstration.\")\n",
    "\n",
    "# Define a NEW session ID for this part of the tutorial\n",
    "SESSION_ID_STATEFUL = \"session_state_demo_001\"\n",
    "USER_ID_STATEFUL = \"user_state_demo\"\n",
    "\n",
    "# Define initial state data - user prefers Celsius initially\n",
    "initial_state = {\n",
    "    \"user_advantage\": \"true\",\n",
    "}\n",
    "\n",
    "# Create the session, providing the initial state\n",
    "session_stateful = await session_service_stateful.create_session(\n",
    "    app_name=APP_NAME, # Use the consistent app name\n",
    "    user_id=USER_ID_STATEFUL,\n",
    "    session_id=SESSION_ID_STATEFUL,\n",
    "    state=initial_state # <<< Initialize state during creation\n",
    ")\n",
    "print(f\"✅ Session '{SESSION_ID_STATEFUL}' created for user '{USER_ID_STATEFUL}'.\")\n",
    "\n",
    "# Verify the initial state was set correctly\n",
    "retrieved_session = await session_service_stateful.get_session(app_name=APP_NAME,\n",
    "                                                         user_id=USER_ID_STATEFUL,\n",
    "                                                         session_id = SESSION_ID_STATEFUL)\n",
    "print(\"\\n--- Initial Session State ---\")\n",
    "if retrieved_session:\n",
    "    print(retrieved_session.state)\n",
    "else:\n",
    "    print(\"Error: Could not retrieve session.\")"
   ]
  },
  {
   "cell_type": "markdown",
   "id": "6ac8606b",
   "metadata": {},
   "source": [
    "Now we can modify our roll_to_hit tool to be state aware. We need to be able to:\n",
    "\n",
    "Key into our state\n",
    "Leverage the state to have some kind of impact on our tool call\n",
    "Let's do exactly that below!"
   ]
  },
  {
   "cell_type": "code",
   "execution_count": 17,
   "id": "e6ba5143",
   "metadata": {},
   "outputs": [
    {
     "name": "stdout",
     "output_type": "stream",
     "text": [
      "✅ State-aware 'roll_to_hit_stateful' tool defined.\n"
     ]
    }
   ],
   "source": [
    "def roll_to_hit_stateful(attribute_modifier: int, proficiency: int, difficulty_class: int, tool_context: ToolContext) -> dict:\n",
    "    \"\"\"Used to roll a check to hit a target number.\n",
    "\n",
    "    Args:\n",
    "        attribute_modifier (int): The attribute modifier to roll.\n",
    "        proficiency (int): The proficiency bonus to the attribute modifier.\n",
    "        difficulty_class (int): The difficulty class to hit.\n",
    "\n",
    "    Returns:\n",
    "        dict: Results of the roll, including whether it was a success or failure.\n",
    "    \"\"\"\n",
    "    print(f\"--- Tool: roll_to_hit called for attribute_modifier: {attribute_modifier}, proficiency: {proficiency}, and difficulty_class: {difficulty_class} ---\") # Log tool execution\n",
    "    advantage = tool_context.state.get(\"user_advantage\", \"false\")\n",
    "    print(f\"--- Tool: Reading state 'user_advantage': {advantage} ---\")\n",
    "    \n",
    "    # roll data\n",
    "    roll = random.randint(1, 20)\n",
    "    if advantage == \"true\":\n",
    "        second_roll = random.randint(1, 20)\n",
    "        roll = max(roll, second_roll)\n",
    "\n",
    "    roll_result = roll + attribute_modifier + proficiency\n",
    "    if roll_result >= difficulty_class:\n",
    "        return {\"status\": \"success\", \"information\": f\"You rolled a {roll_result} and hit the target number of {difficulty_class}.\"}\n",
    "    else:\n",
    "        return {\"status\": \"error\", \"error_message\": f\"You rolled a {roll_result} and did not hit the target number of {difficulty_class}.\"}\n",
    "\n",
    "print(\"✅ State-aware 'roll_to_hit_stateful' tool defined.\")"
   ]
  },
  {
   "cell_type": "code",
   "execution_count": 18,
   "id": "bc445484",
   "metadata": {},
   "outputs": [
    {
     "name": "stdout",
     "output_type": "stream",
     "text": [
      "✅ Agent 'greeting_agent' redefined.\n",
      "✅ Agent 'farewell_agent' redefined.\n",
      "✅ Root Agent 'dice_rolling_agent_v4_stateful' created using stateful tool and output_key.\n",
      "✅ Runner created for stateful root agent 'dice_rolling_agent_v4_stateful' using stateful session service.\n"
     ]
    }
   ],
   "source": [
    "greeting_agent = None\n",
    "try:\n",
    "    greeting_agent = Agent(\n",
    "        model=LiteLlm(model=\"openai/gpt-4.1-nano\"),\n",
    "        name=\"greeting_agent\",\n",
    "        instruction=\"You are the Greeting Agent. Your ONLY task is to provide a friendly greeting using the 'say_hello' tool. Do nothing else.\",\n",
    "        description=\"Handles simple greetings and hellos using the 'say_hello' tool.\",\n",
    "        tools=[say_hello],\n",
    "    )\n",
    "    print(f\"✅ Agent '{greeting_agent.name}' redefined.\")\n",
    "except Exception as e:\n",
    "    print(f\"❌ Could not redefine Greeting agent. Error: {e}\")\n",
    "\n",
    "# --- Redefine Farewell Agent (from Step 3) ---\n",
    "farewell_agent = None\n",
    "try:\n",
    "    farewell_agent = Agent(\n",
    "        model=LiteLlm(model=\"openai/gpt-4.1-nano\"),\n",
    "        name=\"farewell_agent\",\n",
    "        instruction=\"You are the Farewell Agent. Your ONLY task is to provide a polite goodbye message using the 'say_goodbye' tool. Do not perform any other actions.\",\n",
    "        description=\"Handles simple farewells and goodbyes using the 'say_goodbye' tool.\",\n",
    "        tools=[say_goodbye],\n",
    "    )\n",
    "    print(f\"✅ Agent '{farewell_agent.name}' redefined.\")\n",
    "except Exception as e:\n",
    "    print(f\"❌ Could not redefine Farewell agent. Error: {e}\")\n",
    "\n",
    "# --- Define the Updated Root Agent ---\n",
    "root_agent_stateful = None\n",
    "runner_root_stateful = None # Initialize runner\n",
    "\n",
    "# Check prerequisites before creating the root agent\n",
    "if greeting_agent and farewell_agent and 'roll_to_hit_stateful' in globals():\n",
    "\n",
    "    root_agent_model = MODEL_GEMINI_2_0_FLASH # Choose orchestration model\n",
    "\n",
    "    root_agent_stateful = Agent(\n",
    "        name=\"dice_rolling_agent_v4_stateful\", # New version name\n",
    "        model=MODEL_GEMINI_2_0_FLASH,\n",
    "        description=\"Main agent: Provides dice/check rolling, delegates greetings/farewells, saves report to state.\",\n",
    "        instruction=\"You are the main Dice/Check Rolling Agent. Your job is to provide dice/check rolling using 'roll_to_hit_stateful'. \"\n",
    "                    \"The tool will format the result based on user preference stored in state. \"\n",
    "                    \"Delegate simple greetings to 'greeting_agent' and farewells to 'farewell_agent'. \"\n",
    "                    \"Handle only dice/check rolling requests, greetings, and farewells.\",\n",
    "        tools=[roll_to_hit_stateful], # Use the state-aware tool\n",
    "        sub_agents=[greeting_agent, farewell_agent], # Include sub-agents\n",
    "        output_key=\"last_roll_result\" # <<< Auto-save agent's final roll result\n",
    "    )\n",
    "    print(f\"✅ Root Agent '{root_agent_stateful.name}' created using stateful tool and output_key.\")\n",
    "\n",
    "    # --- Create Runner for this Root Agent & NEW Session Service ---\n",
    "    runner_root_stateful = Runner(\n",
    "        agent=root_agent_stateful,\n",
    "        app_name=APP_NAME,\n",
    "        session_service=session_service_stateful # Use the NEW stateful session service\n",
    "    )\n",
    "    print(f\"✅ Runner created for stateful root agent '{runner_root_stateful.agent.name}' using stateful session service.\")\n",
    "\n",
    "else:\n",
    "    print(\"❌ Cannot create stateful root agent. Prerequisites missing.\")\n",
    "    if not greeting_agent: print(\" - greeting_agent definition missing.\")\n",
    "    if not farewell_agent: print(\" - farewell_agent definition missing.\")\n",
    "    if 'roll_to_hit_stateful' not in globals(): print(\" - roll_to_hit_stateful tool missing.\")"
   ]
  },
  {
   "cell_type": "code",
   "execution_count": 19,
   "id": "3098d863",
   "metadata": {},
   "outputs": [
    {
     "name": "stdout",
     "output_type": "stream",
     "text": [
      "Attempting execution using 'await' (default for notebooks)...\n",
      "\n",
      "--- Testing State: Dice/Check Rolling & output_key ---\n",
      "--- Turn 1: Requesting roll with advantage---\n",
      "\n",
      ">>> User Query: I have a proficiency of +2, a Dexterity of 17, and the target DC is 15.\n",
      "--- Tool: roll_to_hit called for attribute_modifier: 3, proficiency: 2, and difficulty_class: 15 ---\n",
      "--- Tool: Reading state 'user_advantage': true ---\n",
      "<<< Agent Response: You rolled a 12 and did not hit the target number of 15.\n",
      "\n",
      "\n",
      "--- Manually Updating State: Turning off advantage ---\n",
      "--- Stored session state updated. Current 'user_advantage': false ---\n",
      "\n",
      "--- Turn 2: Requesting roll without advantage ---\n",
      "\n",
      ">>> User Query: I have a proficiency of +2, a Dexterity of 17, and the target DC is 15.\n",
      "--- Tool: roll_to_hit called for attribute_modifier: 3, proficiency: 2, and difficulty_class: 15 ---\n",
      "--- Tool: Reading state 'user_advantage': false ---\n",
      "<<< Agent Response: You rolled a 11 and did not hit the target number of 15.\n",
      "\n",
      "\n",
      "--- Turn 3: Sending a greeting ---\n",
      "\n",
      ">>> User Query: Hi!\n",
      "--- Tool: say_hello called with name: there ---\n",
      "<<< Agent Response: Hello, there!\n",
      "\n",
      "--- Inspecting Final Session State ---\n",
      "Final Advantage: false\n",
      "Final Last Roll Result (from output_key): Hello, there!\n"
     ]
    }
   ],
   "source": [
    "if 'runner_root_stateful' in globals() and runner_root_stateful:\n",
    "    # Define the main async function for the stateful conversation logic.\n",
    "    # The 'await' keywords INSIDE this function are necessary for async operations.\n",
    "    async def run_stateful_conversation():\n",
    "        print(\"\\n--- Testing State: Dice/Check Rolling & output_key ---\")\n",
    "\n",
    "        # 1. Check roll with advantage (Uses initial state: advantage = true)\n",
    "        print(\"--- Turn 1: Requesting roll with advantage---\")\n",
    "        await call_agent_async(query= \"I have a proficiency of +2, a Dexterity of 17, and the target DC is 15.\",\n",
    "                               runner=runner_root_stateful,\n",
    "                               user_id=USER_ID_STATEFUL,\n",
    "                               session_id=SESSION_ID_STATEFUL\n",
    "                              )\n",
    "\n",
    "        # 2. Manually update state preference to not have advantage - DIRECTLY MODIFY STORAGE\n",
    "        print(\"\\n--- Manually Updating State: Turning off advantage ---\")\n",
    "        try:\n",
    "            # Access the internal storage directly - THIS IS SPECIFIC TO InMemorySessionService for testing\n",
    "            # NOTE: In production with persistent services (Database), you would\n",
    "            # typically update state via agent actions or specific service APIs if available,\n",
    "            # not by direct manipulation of internal storage.\n",
    "            stored_session = session_service_stateful.sessions[APP_NAME][USER_ID_STATEFUL][SESSION_ID_STATEFUL]\n",
    "            stored_session.state[\"user_advantage\"] = \"false\"\n",
    "            # Optional: You might want to update the timestamp as well if any logic depends on it\n",
    "            # import time\n",
    "            # stored_session.last_update_time = time.time()\n",
    "            print(f\"--- Stored session state updated. Current 'user_advantage': {stored_session.state.get('user_advantage', 'Not Set')} ---\") # Added .get for safety\n",
    "        except KeyError:\n",
    "            print(f\"--- Error: Could not retrieve session '{SESSION_ID_STATEFUL}' from internal storage for user '{USER_ID_STATEFUL}' in app '{APP_NAME}' to update state. Check IDs and if session was created. ---\")\n",
    "        except Exception as e:\n",
    "             print(f\"--- Error updating internal session state: {e} ---\")\n",
    "\n",
    "        # 3. Check roll again (Tool should now use no advantage)\n",
    "        # This will also update 'last_roll_result' via output_key\n",
    "        print(\"\\n--- Turn 2: Requesting roll without advantage ---\")\n",
    "        await call_agent_async(query= \"I have a proficiency of +2, a Dexterity of 17, and the target DC is 15.\",\n",
    "                               runner=runner_root_stateful,\n",
    "                               user_id=USER_ID_STATEFUL,\n",
    "                               session_id=SESSION_ID_STATEFUL\n",
    "                              )\n",
    "\n",
    "        # 4. Test basic delegation (should still work)\n",
    "        # This will update 'last_roll_result' again, overwriting the previous roll result\n",
    "        print(\"\\n--- Turn 3: Sending a greeting ---\")\n",
    "        await call_agent_async(query= \"Hi!\",\n",
    "                               runner=runner_root_stateful,\n",
    "                               user_id=USER_ID_STATEFUL,\n",
    "                               session_id=SESSION_ID_STATEFUL\n",
    "                              )\n",
    "\n",
    "    # --- Execute the `run_stateful_conversation` async function ---\n",
    "\n",
    "    # Direct await (Default for Notebooks/Async REPLs)\n",
    "    # If your environment supports top-level await (like Colab/Jupyter notebooks),\n",
    "    # it means an event loop is already running, so you can directly await the function.\n",
    "    print(\"Attempting execution using 'await' (default for notebooks)...\")\n",
    "    await run_stateful_conversation()\n",
    "\n",
    "    # --- Inspect final session state after the conversation ---\n",
    "    # This block runs after either execution method completes.\n",
    "    print(\"\\n--- Inspecting Final Session State ---\")\n",
    "    final_session = await session_service_stateful.get_session(app_name=APP_NAME,\n",
    "                                                         user_id= USER_ID_STATEFUL,\n",
    "                                                         session_id=SESSION_ID_STATEFUL)\n",
    "    if final_session:\n",
    "        # Use .get() for safer access to potentially missing keys\n",
    "        print(f\"Final Advantage: {final_session.state.get('user_advantage', 'Not Set')}\")\n",
    "        print(f\"Final Last Roll Result (from output_key): {final_session.state.get('last_roll_result', 'Not Set')}\")\n",
    "        # Print full state for detailed view\n",
    "        # print(f\"Full State Dict: {final_session.state.as_dict()}\") # Use as_dict() for clarity\n",
    "    else:\n",
    "        print(\"\\n❌ Error: Could not retrieve final session state.\")\n",
    "\n",
    "else:\n",
    "    print(\"\\n⚠️ Skipping state test conversation. Stateful root agent runner ('runner_root_stateful') is not available.\")"
   ]
  }
 ],
 "metadata": {
  "kernelspec": {
   "display_name": ".venv",
   "language": "python",
   "name": "python3"
  },
  "language_info": {
   "codemirror_mode": {
    "name": "ipython",
    "version": 3
   },
   "file_extension": ".py",
   "mimetype": "text/x-python",
   "name": "python",
   "nbconvert_exporter": "python",
   "pygments_lexer": "ipython3",
   "version": "3.13.2"
  }
 },
 "nbformat": 4,
 "nbformat_minor": 5
}
